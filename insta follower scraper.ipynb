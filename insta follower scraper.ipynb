{
 "cells": [
  {
   "cell_type": "code",
   "execution_count": 1,
   "metadata": {},
   "outputs": [],
   "source": [
    "# importing libraries \n",
    "from bs4 import BeautifulSoup \n",
    "import requests "
   ]
  },
  {
   "cell_type": "code",
   "execution_count": 2,
   "metadata": {},
   "outputs": [],
   "source": [
    "# instagram URL \n",
    "URL = \"https://www.instagram.com/{}/\""
   ]
  },
  {
   "cell_type": "code",
   "execution_count": 3,
   "metadata": {},
   "outputs": [],
   "source": [
    "# parse function \n",
    "def parse_data(s): \n",
    "      \n",
    "    # creating a dictionary \n",
    "    data = {} \n",
    "      \n",
    "    # splittting the content  \n",
    "    # then taking the first part \n",
    "    s = s.split(\"-\")[0] \n",
    "      \n",
    "    # again splitting the content  \n",
    "    s = s.split(\" \") \n",
    "      \n",
    "    # assigning the values \n",
    "    data['Followers'] = s[0] \n",
    "    data['Following'] = s[2] \n",
    "    data['Posts'] = s[4] \n",
    "      \n",
    "    # returning the dictionary \n",
    "    return data"
   ]
  },
  {
   "cell_type": "code",
   "execution_count": 4,
   "metadata": {},
   "outputs": [],
   "source": [
    "# scrape function \n",
    "def scrape_data(username): \n",
    "      \n",
    "    # getting the request from url \n",
    "    r = requests.get(URL.format(username)) \n",
    "      \n",
    "    # converting the text \n",
    "    s = BeautifulSoup(r.text, \"html.parser\") \n",
    "      \n",
    "    # finding meta info \n",
    "    meta = s.find(\"meta\", property =\"og:description\") \n",
    "    \n",
    "    # calling parse method \n",
    "    return parse_data(meta.attrs['content']) "
   ]
  },
  {
   "cell_type": "code",
   "execution_count": 13,
   "metadata": {},
   "outputs": [
    {
     "name": "stdout",
     "output_type": "stream",
     "text": [
      "[942, 435, 806, 108, 126, 844]\n"
     ]
    }
   ],
   "source": [
    "  # main function \n",
    "if __name__==\"__main__\": \n",
    "    \n",
    "      \n",
    "    # user name \n",
    "    usernames=[\"daurcomm\",\"radioqaum\",\"aahatadotcom\",\"react.please\",\"daur_ed\",\"thevirtualnetwork\"]\n",
    "    followers_count=[]\n",
    "    #username = \"the_drunken_astronaut\"\n",
    "    for username in usernames:\n",
    "        \n",
    "    # calling scrape function \n",
    "        data = scrape_data(username) \n",
    "        followers_count.append(data['Followers'])\n",
    "    # printing the info \n",
    "    followers_count = [int(i) for i in followers_count] \n",
    "    print(followers_count) "
   ]
  },
  {
   "cell_type": "code",
   "execution_count": 17,
   "metadata": {},
   "outputs": [
    {
     "data": {
      "image/png": "[encoded data removed]",
      "text/plain": [
       "<Figure size 432x288 with 1 Axes>"
      ]
     },
     "metadata": {
      "needs_background": "light"
     },
     "output_type": "display_data"
    }
   ],
   "source": [
    "import matplotlib.pyplot as plt\n",
    "plt.bar(usernames,followers_count)\n",
    "plt.xticks(rotation=30)\n",
    "plt.show()"
   ]
  },
  {
   "cell_type": "code",
   "execution_count": null,
   "metadata": {},
   "outputs": [],
   "source": []
  }
 ],
 "metadata": {
  "kernelspec": {
   "display_name": "Python 3",
   "language": "python",
   "name": "python3"
  },
  "language_info": {
   "codemirror_mode": {
    "name": "ipython",
    "version": 3
   },
   "file_extension": ".py",
   "mimetype": "text/x-python",
   "name": "python",
   "nbconvert_exporter": "python",
   "pygments_lexer": "ipython3",
   "version": "3.7.0"
  }
 },
 "nbformat": 4,
 "nbformat_minor": 2
}
