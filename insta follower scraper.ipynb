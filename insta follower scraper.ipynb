{
 "cells": [
  {
   "cell_type": "code",
   "execution_count": 1,
   "metadata": {},
   "outputs": [],
   "source": [
    "# importing libraries \n",
    "from bs4 import BeautifulSoup \n",
    "import requests "
   ]
  },
  {
   "cell_type": "code",
   "execution_count": 2,
   "metadata": {},
   "outputs": [],
   "source": [
    "# instagram URL \n",
    "URL = \"https://www.instagram.com/{}/\""
   ]
  },
  {
   "cell_type": "code",
   "execution_count": 3,
   "metadata": {},
   "outputs": [],
   "source": [
    "# parse function \n",
    "def parse_data(s): \n",
    "      \n",
    "    # creating a dictionary \n",
    "    data = {} \n",
    "      \n",
    "    # splittting the content  \n",
    "    # then taking the first part \n",
    "    s = s.split(\"-\")[0] \n",
    "      \n",
    "    # again splitting the content  \n",
    "    s = s.split(\" \") \n",
    "      \n",
    "    # assigning the values \n",
    "    data['Followers'] = s[0] \n",
    "    data['Following'] = s[2] \n",
    "    data['Posts'] = s[4] \n",
    "      \n",
    "    # returning the dictionary \n",
    "    return data"
   ]
  },
  {
   "cell_type": "code",
   "execution_count": 4,
   "metadata": {},
   "outputs": [],
   "source": [
    "# scrape function \n",
    "def scrape_data(username): \n",
    "      \n",
    "    # getting the request from url \n",
    "    r = requests.get(URL.format(username)) \n",
    "      \n",
    "    # converting the text \n",
    "    s = BeautifulSoup(r.text, \"html.parser\") \n",
    "      \n",
    "    # finding meta info \n",
    "    meta = s.find(\"meta\", property =\"og:description\") \n",
    "    \n",
    "    # calling parse method \n",
    "    return parse_data(meta.attrs['content']) "
   ]
  },
  {
   "cell_type": "code",
   "execution_count": 5,
   "metadata": {},
   "outputs": [
    {
     "name": "stdout",
     "output_type": "stream",
     "text": [
      "[941, 437, 809, 110, 128, 849]\n"
     ]
    }
   ],
   "source": [
    "  # main function \n",
    "if __name__==\"__main__\": \n",
    "    \n",
    "      \n",
    "    # user name \n",
    "    usernames=[\"daurcomm\",\"radioqaum\",\"aahatadotcom\",\"react.please\",\"daur_ed\",\"thevirtualnetwork\"]\n",
    "    followers_count=[]\n",
    "    #username = \"the_drunken_astronaut\"\n",
    "    for username in usernames:\n",
    "        \n",
    "    # calling scrape function \n",
    "        data = scrape_data(username) \n",
    "        followers_count.append(data['Followers'])\n",
    "    # printing the info \n",
    "    followers_count = [int(i) for i in followers_count] \n",
    "    print(followers_count) "
   ]
  },
  {
   "cell_type": "code",
   "execution_count": 7,
   "metadata": {},
   "outputs": [
    {
     "data": {
      "image/png": "[encoded data removed]",
      "text/plain": [
       "<Figure size 432x288 with 1 Axes>"
      ]
     },
     "metadata": {
      "needs_background": "light"
     },
     "output_type": "display_data"
    }
   ],
   "source": [
    "import matplotlib.pyplot as plt\n",
    "import matplotlib as mp\n",
    "import numpy as np\n",
    "\n",
    "# Colorize the graph based on likeability:\n",
    "likeability_scores = np.array(followers_count)\n",
    " \n",
    "data_normalizer = mp.colors.Normalize()\n",
    "color_map = mp.colors.LinearSegmentedColormap(\n",
    "    \"my_map\",\n",
    "    {\n",
    "        \"red\": [(0, 1.0, 1.0),\n",
    "                (1.0, .5, .5)],\n",
    "        \"green\": [(0, 0.5, 0.5),\n",
    "                  (1.0, 0, 0)],\n",
    "        \"blue\": [(0, 0.50, 0.5),\n",
    "                 (1.0, 0, 0)]\n",
    "        \n",
    "        \n",
    "#         \"red\": [(0, 0.7, 1.9),\n",
    "#                 (1.0, 0.5, .5)],\n",
    "#         \"green\": [(0, 1.0, 0.5),\n",
    "#                   (1.0, 0, 0)],\n",
    "#         \"blue\": [(0, 0.50, 0.5),\n",
    "#                  (1.0, 0, 0.9)]\n",
    "    }\n",
    ")\n",
    "\n",
    "fig, ax = plt.subplots()\n",
    "#plt.bar(usernames,followers_count)\n",
    "bars = ax.bar(usernames,followers_count,color=color_map(data_normalizer(likeability_scores)))\n",
    "plt.xticks(rotation=25, fontname='dejavu sans')\n",
    "\n",
    "# Axis formatting.\n",
    "ax.spines['top'].set_visible(False)\n",
    "ax.spines['right'].set_visible(False)\n",
    "ax.spines['left'].set_visible(False)\n",
    "ax.spines['bottom'].set_color('#DDDDDD')\n",
    "ax.tick_params(bottom=False, left=False)\n",
    "ax.set_axisbelow(True)\n",
    "ax.yaxis.grid(True, color='#EEEEEE')\n",
    "ax.xaxis.grid(False)\n",
    "\n",
    "# Add text annotations to the top of the bars.\n",
    "bar_color = bars[0].get_facecolor()\n",
    "for bar in bars:\n",
    "    ax.text(\n",
    "      bar.get_x() + bar.get_width() / 2,\n",
    "      bar.get_height() + 14.0,\n",
    "      round(bar.get_height()),\n",
    "      horizontalalignment='center',\n",
    "      color='red'\n",
    "  )\n",
    "    \n",
    "ax.set_xlabel('Instagram Handles', labelpad=25, color='#333333', fontsize=12, weight='bold')\n",
    "ax.set_ylabel('Followers Count', labelpad=25, color='#333333', fontsize=12, weight='bold')\n",
    "ax.set_title('Growth Chart', pad=35, color='#333333', fontsize=15,\n",
    "             weight='bold')\n",
    "\n",
    "fig.tight_layout()\n",
    "\n",
    "plt.show()"
   ]
  },
  {
   "cell_type": "code",
   "execution_count": null,
   "metadata": {},
   "outputs": [],
   "source": []
  }
 ],
 "metadata": {
  "kernelspec": {
   "display_name": "Python 3",
   "language": "python",
   "name": "python3"
  },
  "language_info": {
   "codemirror_mode": {
    "name": "ipython",
    "version": 3
   },
   "file_extension": ".py",
   "mimetype": "text/x-python",
   "name": "python",
   "nbconvert_exporter": "python",
   "pygments_lexer": "ipython3",
   "version": "3.7.0"
  }
 },
 "nbformat": 4,
 "nbformat_minor": 2
}
